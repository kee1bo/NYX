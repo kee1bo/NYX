{
 "cells": [
  {
   "cell_type": "code",
   "execution_count": 1,
   "id": "c58a3cc7",
   "metadata": {},
   "outputs": [],
   "source": [
    "with open('input.txt','r',encoding='utf-8') as f:\n",
    "    text = f.read()"
   ]
  },
  {
   "cell_type": "code",
   "execution_count": 2,
   "id": "ba84d1ff",
   "metadata": {},
   "outputs": [
    {
     "name": "stdout",
     "output_type": "stream",
     "text": [
      "Length of Dataset:  98595\n"
     ]
    }
   ],
   "source": [
    "print(\"Length of Dataset: \", len(text))"
   ]
  },
  {
   "cell_type": "code",
   "execution_count": 3,
   "id": "bded43e9",
   "metadata": {},
   "outputs": [
    {
     "name": "stdout",
     "output_type": "stream",
     "text": [
      "First Citizen:\n",
      "Before we proceed any further, hear me speak.\n",
      "\n",
      "All:\n",
      "Speak, speak.\n",
      "\n",
      "First Citizen:\n",
      "You\n"
     ]
    }
   ],
   "source": [
    "print(text[:100])"
   ]
  },
  {
   "cell_type": "code",
   "execution_count": 4,
   "id": "5060e6df",
   "metadata": {},
   "outputs": [
    {
     "name": "stdout",
     "output_type": "stream",
     "text": [
      "\n",
      " !&',-.:;?ABCDEFGHIJKLMNOPQRSTUVWYabcdefghijklmnopqrstuvwxyz\n",
      "61\n"
     ]
    }
   ],
   "source": [
    "# We are extracting all the unique characters in the text, in toa, we call it the alphabets SIGMA\n",
    "# We are trying to build a character level language model\n",
    "chars = sorted(list(set(text)))\n",
    "voca_size =len(chars)\n",
    "print(\"\".join(chars))\n",
    "print(voca_size)"
   ]
  },
  {
   "cell_type": "code",
   "execution_count": 5,
   "id": "3258b686",
   "metadata": {},
   "outputs": [],
   "source": [
    "stoi = {ch:i for i, ch in enumerate(chars)} \n",
    "itos = {i:ch for i, ch in enumerate(chars)}\n",
    "\n",
    "encode = lambda s: [stoi[c] for c in s]\n",
    "\n",
    "decode = lambda l: ''.join([itos[i] for i in l])\n"
   ]
  },
  {
   "cell_type": "code",
   "execution_count": 6,
   "id": "d97242e7",
   "metadata": {},
   "outputs": [
    {
     "name": "stdout",
     "output_type": "stream",
     "text": [
      "torch.Size([98595]) torch.int64\n",
      "tensor([16, 43, 52, 53, 54,  1, 13, 43, 54, 43, 60, 39, 48,  8,  0, 12, 39, 40,\n",
      "        49, 52, 39,  1, 57, 39,  1, 50, 52, 49, 37, 39, 39, 38,  1, 35, 48, 59,\n",
      "         1, 40, 55, 52, 54, 42, 39, 52,  5,  1, 42, 39, 35, 52,  1, 47, 39,  1,\n",
      "        53, 50, 39, 35, 45,  7,  0,  0, 11, 46, 46,  8,  0, 29, 50, 39, 35, 45,\n",
      "         5,  1, 53, 50, 39, 35, 45,  7,  0,  0, 16, 43, 52, 53, 54,  1, 13, 43,\n",
      "        54, 43, 60, 39, 48,  8,  0, 34, 49, 55,  1, 35, 52, 39,  1, 35, 46, 46,\n",
      "         1, 52, 39, 53, 49, 46, 56, 39, 38,  1, 52, 35, 54, 42, 39, 52,  1, 54,\n",
      "        49,  1, 38, 43, 39,  1, 54, 42, 35, 48,  1, 54, 49,  1, 40, 35, 47, 43,\n",
      "        53, 42, 10,  0,  0, 11, 46, 46,  8,  0, 28, 39, 53, 49, 46, 56, 39, 38,\n",
      "         7,  1, 52, 39, 53, 49, 46, 56, 39, 38,  7,  0,  0, 16, 43, 52, 53, 54,\n",
      "         1, 13, 43, 54, 43, 60, 39, 48,  8,  0, 16, 43, 52, 53, 54,  5,  1, 59,\n",
      "        49, 55,  1, 45, 48, 49, 57,  1, 13, 35, 43, 55, 53,  1, 23, 35, 52, 37,\n",
      "        43, 55, 53,  1, 43, 53,  1, 37, 42, 43, 39, 40,  1, 39, 48, 39, 47, 59,\n",
      "         1, 54, 49,  1, 54, 42, 39,  1, 50, 39, 49, 50, 46, 39,  7,  0,  0, 11,\n",
      "        46, 46,  8,  0, 33, 39,  1, 45, 48, 49, 57,  4, 54,  5,  1, 57, 39,  1,\n",
      "        45, 48, 49, 57,  4, 54,  7,  0,  0, 16, 43, 52, 53, 54,  1, 13, 43, 54,\n",
      "        43, 60, 39, 48,  8,  0, 22, 39, 54,  1, 55, 53,  1, 45, 43, 46, 46,  1,\n",
      "        42, 43, 47,  5,  1, 35, 48, 38,  1, 57, 39,  4, 46, 46,  1, 42, 35, 56,\n",
      "        39,  1, 37, 49, 52, 48,  1, 35, 54,  1, 49, 55, 52,  1, 49, 57, 48,  1,\n",
      "        50, 52, 43, 37, 39,  7,  0, 19, 53,  4, 54,  1, 35,  1, 56, 39, 52, 38,\n",
      "        43, 37, 54, 10,  0,  0, 11, 46, 46,  8,  0, 24, 49,  1, 47, 49, 52, 39,\n",
      "         1, 54, 35, 46, 45, 43, 48, 41,  1, 49, 48,  4, 54,  9,  1, 46, 39, 54,\n",
      "         1, 43, 54,  1, 36, 39,  1, 38, 49, 48, 39,  8,  1, 35, 57, 35, 59,  5,\n",
      "         1, 35, 57, 35, 59,  2,  0,  0, 29, 39, 37, 49, 48, 38,  1, 13, 43, 54,\n",
      "        43, 60, 39, 48,  8,  0, 25, 48, 39,  1, 57, 49, 52, 38,  5,  1, 41, 49,\n",
      "        49, 38,  1, 37, 43, 54, 43, 60, 39, 48, 53,  7,  0,  0, 16, 43, 52, 53,\n",
      "        54,  1, 13, 43, 54, 43, 60, 39, 48,  8,  0, 33, 39,  1, 35, 52, 39,  1,\n",
      "        35, 37, 37, 49, 55, 48, 54, 39, 38,  1, 50, 49, 49, 52,  1, 37, 43, 54,\n",
      "        43, 60, 39, 48, 53,  5,  1, 54, 42, 39,  1, 50, 35, 54, 52, 43, 37, 43,\n",
      "        35, 48, 53,  1, 41, 49, 49, 38,  7,  0, 33, 42, 35, 54,  1, 35, 55, 54,\n",
      "        42, 49, 52, 43, 54, 59,  1, 53, 55, 52, 40, 39, 43, 54, 53,  1, 49, 48,\n",
      "         1, 57, 49, 55, 46, 38,  1, 52, 39, 46, 43, 39, 56, 39,  1, 55, 53,  8,\n",
      "         1, 43, 40,  1, 54, 42, 39, 59,  0, 57, 49, 55, 46, 38,  1, 59, 43, 39,\n",
      "        46, 38,  1, 55, 53,  1, 36, 55, 54,  1, 54, 42, 39,  1, 53, 55, 50, 39,\n",
      "        52, 40, 46, 55, 43, 54, 59,  5,  1, 57, 42, 43, 46, 39,  1, 43, 54,  1,\n",
      "        57, 39, 52, 39,  0, 57, 42, 49, 46, 39, 53, 49, 47, 39,  5,  1, 57, 39,\n",
      "         1, 47, 43, 41, 42, 54,  1, 41, 55, 39, 53, 53,  1, 54, 42, 39, 59,  1,\n",
      "        52, 39, 46, 43, 39, 56, 39, 38,  1, 55, 53,  1, 42, 55, 47, 35, 48, 39,\n",
      "        46, 59,  9,  0, 36, 55, 54,  1, 54, 42, 39, 59,  1, 54, 42, 43, 48, 45,\n",
      "         1, 57, 39,  1, 35, 52, 39,  1, 54, 49, 49,  1, 38, 39, 35, 52,  8,  1,\n",
      "        54, 42, 39,  1, 46, 39, 35, 48, 48, 39, 53, 53,  1, 54, 42, 35, 54,  0,\n",
      "        35, 40, 40, 46, 43, 37, 54, 53,  1, 55, 53,  5,  1, 54, 42, 39,  1, 49,\n",
      "        36, 44, 39, 37, 54,  1, 49, 40,  1, 49, 55, 52,  1, 47, 43, 53, 39, 52,\n",
      "        59,  5,  1, 43, 53,  1, 35, 53,  1, 35, 48,  0, 43, 48, 56, 39, 48, 54,\n",
      "        49, 52, 59,  1, 54, 49,  1, 50, 35, 52, 54, 43, 37, 55, 46, 35, 52, 43,\n",
      "        53, 39,  1, 54, 42, 39, 43, 52,  1, 35, 36, 55, 48, 38, 35, 48, 37, 39,\n",
      "         9,  1, 49, 55, 52,  0, 53, 55, 40, 40, 39, 52, 35, 48, 37, 39,  1, 43,\n",
      "        53,  1, 35,  1, 41, 35, 43, 48,  1, 54, 49,  1, 54, 42, 39, 47,  1, 22,\n",
      "        39, 54,  1, 55, 53,  1, 52, 39, 56, 39, 48, 41, 39,  1, 54, 42, 43, 53,\n",
      "         1, 57, 43, 54, 42,  0, 49, 55, 52,  1, 50, 43, 45, 39, 53,  5,  1, 39,\n",
      "        52, 39,  1, 57, 39,  1, 36, 39, 37, 49, 47, 39,  1, 52, 35, 45, 39, 53,\n",
      "         8,  1, 40, 49, 52,  1, 54, 42, 39,  1, 41, 49, 38, 53,  1, 45, 48, 49,\n",
      "        57,  1, 19,  0, 53, 50, 39, 35, 45,  1, 54, 42, 43, 53,  1, 43, 48,  1,\n",
      "        42, 55, 48, 41, 39, 52,  1, 40, 49, 52,  1, 36, 52, 39, 35, 38,  5,  1,\n",
      "        48, 49, 54,  1, 43, 48,  1, 54, 42, 43, 52, 53, 54,  1, 40, 49, 52,  1,\n",
      "        52, 39, 56, 39, 48, 41, 39,  7,  0,  0])\n"
     ]
    }
   ],
   "source": [
    "import torch\n",
    "data = torch.tensor(encode(text),dtype=torch.long)\n",
    "print(data.shape,data.dtype)\n",
    "print(data[:1000])"
   ]
  },
  {
   "cell_type": "code",
   "execution_count": 7,
   "id": "2d54ad6a",
   "metadata": {},
   "outputs": [],
   "source": [
    "# Let's split our data into train and validation split\n",
    "n  =int(0.9 * len(data)) # first 90% will be train dataset\n",
    "train_data = data[:n]\n",
    "val_data = data[n:]\n",
    "\n",
    "# Splitting the data like this, helps us to what degree/level our model is overfitting or underfitting"
   ]
  },
  {
   "cell_type": "code",
   "execution_count": 8,
   "id": "87a78409",
   "metadata": {},
   "outputs": [
    {
     "data": {
      "text/plain": [
       "(9860, 88735)"
      ]
     },
     "execution_count": 8,
     "metadata": {},
     "output_type": "execute_result"
    }
   ],
   "source": [
    "len(val_data), len(train_data)"
   ]
  },
  {
   "cell_type": "code",
   "execution_count": 9,
   "id": "705b0fd9",
   "metadata": {},
   "outputs": [
    {
     "data": {
      "text/plain": [
       "tensor([16, 43, 52, 53, 54,  1, 13, 43, 54])"
      ]
     },
     "execution_count": 9,
     "metadata": {},
     "output_type": "execute_result"
    }
   ],
   "source": [
    "block_size = 8  # This is the max context length, we just happen to take 8\n",
    "train_data[:block_size+1]"
   ]
  },
  {
   "cell_type": "code",
   "execution_count": 10,
   "id": "c00cb8ac",
   "metadata": {},
   "outputs": [
    {
     "name": "stdout",
     "output_type": "stream",
     "text": [
      "when input is tensor([16]) the target: 43\n",
      "when input is tensor([16, 43]) the target: 52\n",
      "when input is tensor([16, 43, 52]) the target: 53\n",
      "when input is tensor([16, 43, 52, 53]) the target: 54\n",
      "when input is tensor([16, 43, 52, 53, 54]) the target: 1\n",
      "when input is tensor([16, 43, 52, 53, 54,  1]) the target: 13\n",
      "when input is tensor([16, 43, 52, 53, 54,  1, 13]) the target: 43\n",
      "when input is tensor([16, 43, 52, 53, 54,  1, 13, 43]) the target: 54\n"
     ]
    }
   ],
   "source": [
    "x = train_data[:block_size]\n",
    "y = train_data[1:block_size+1]\n",
    "\n",
    "for t in range(block_size):\n",
    "    context = x[:t+1]\n",
    "    target=y[t]\n",
    "    print(f\"when input is {context} the target: {target}\")"
   ]
  },
  {
   "cell_type": "code",
   "execution_count": 11,
   "id": "9e297a9e",
   "metadata": {},
   "outputs": [],
   "source": [
    "torch.manual_seed(1337)\n",
    "batch_size = 4 # How many independent sequences will we process in parallel\n",
    "block_size =8 #What is the maximum context length to make those predictions\n",
    "\n"
   ]
  },
  {
   "cell_type": "code",
   "execution_count": 25,
   "id": "8f4639ba",
   "metadata": {},
   "outputs": [
    {
     "name": "stdout",
     "output_type": "stream",
     "text": [
      "inputs:\n",
      "torch.Size([4, 8])\n",
      "tensor([[49, 54,  1, 54, 42, 39,  1, 37],\n",
      "        [38,  1, 36, 39,  1, 43, 48,  1],\n",
      "        [40, 43, 48, 38,  1, 54, 42, 39],\n",
      "        [38,  1, 54, 42, 55, 53,  1, 35]])\n",
      "targets:\n",
      "torch.Size([4, 7])\n",
      "tensor([[54,  1, 54, 42, 39,  1, 37],\n",
      "        [ 1, 36, 39,  1, 43, 48,  1],\n",
      "        [43, 48, 38,  1, 54, 42, 39],\n",
      "        [ 1, 54, 42, 55, 53,  1, 35]])\n",
      "-------\n"
     ]
    }
   ],
   "source": [
    "def get_batch(split):\n",
    "    #generate a small batch of data of inputs x and targets y\n",
    "    data = train_data  if split == 'train' else val_data\n",
    "    ix = torch.randint(len(data)-block_size, (batch_size,))\n",
    "    x= torch.stack([data[i:i+block_size] for i in ix])\n",
    "    y =torch.stack([data[i+1:i+block_size] for i in ix])\n",
    "    return x,y\n",
    "\n",
    "xb,yb =get_batch('train')\n",
    "print('inputs:')\n",
    "print(xb.shape)\n",
    "print(xb)\n",
    "print('targets:')\n",
    "print(yb.shape)\n",
    "print(yb)\n",
    "print('-------')"
   ]
  },
  {
   "cell_type": "code",
   "execution_count": null,
   "id": "c2647e76",
   "metadata": {},
   "outputs": [],
   "source": []
  },
  {
   "cell_type": "code",
   "execution_count": null,
   "id": "ecbfed99",
   "metadata": {},
   "outputs": [],
   "source": []
  },
  {
   "cell_type": "code",
   "execution_count": null,
   "id": "67c4bcbd",
   "metadata": {},
   "outputs": [],
   "source": []
  }
 ],
 "metadata": {
  "kernelspec": {
   "display_name": "Python 3 (ipykernel)",
   "language": "python",
   "name": "python3"
  },
  "language_info": {
   "codemirror_mode": {
    "name": "ipython",
    "version": 3
   },
   "file_extension": ".py",
   "mimetype": "text/x-python",
   "name": "python",
   "nbconvert_exporter": "python",
   "pygments_lexer": "ipython3",
   "version": "3.10.8"
  }
 },
 "nbformat": 4,
 "nbformat_minor": 5
}
